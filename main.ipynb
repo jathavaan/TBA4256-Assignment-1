{
 "cells": [
  {
   "cell_type": "markdown",
   "metadata": {},
   "source": [
    "# Roof detection in point clouds using DBSCAN clustering and RANSAC plane fitting\n"
   ]
  },
  {
   "cell_type": "code",
   "execution_count": 1,
   "metadata": {},
   "outputs": [],
   "source": [
    "%load_ext autoreload\n",
    "%autoreload 2"
   ]
  },
  {
   "cell_type": "code",
   "execution_count": 2,
   "metadata": {},
   "outputs": [
    {
     "name": "stdout",
     "output_type": "stream",
     "text": [
      "Jupyter environment detected. Enabling Open3D WebVisualizer.\n",
      "[Open3D INFO] WebRTC GUI backend enabled.\n",
      "[Open3D INFO] WebRTCWindowSystem: HTTP handshake server disabled.\n"
     ]
    }
   ],
   "source": [
    "# Importing external packages\n",
    "import numpy as np\n",
    "import open3d as o3d\n",
    "import warnings"
   ]
  },
  {
   "cell_type": "code",
   "execution_count": 3,
   "metadata": {},
   "outputs": [],
   "source": [
    "# Importing internal packages\n",
    "from src.enums import Files\n",
    "from src.features.point_cloud_handler import Handler\n",
    "from src.features.pre_process import Reduce\n",
    "from src.features.display import Visualize\n",
    "from src.features.cluster import PointCloudDBSCAN\n",
    "from src.features.ransac import RANSACPlaneFitting"
   ]
  },
  {
   "cell_type": "code",
   "execution_count": 4,
   "metadata": {},
   "outputs": [],
   "source": [
    "# Package setup\n",
    "warnings.filterwarnings('ignore')"
   ]
  },
  {
   "cell_type": "markdown",
   "metadata": {},
   "source": [
    "## Initialization\n",
    "\n",
    "Creating a point cloud object from a las/laz file.\n"
   ]
  },
  {
   "cell_type": "code",
   "execution_count": 5,
   "metadata": {},
   "outputs": [
    {
     "name": "stdout",
     "output_type": "stream",
     "text": [
      "Loaded 10434804 points from off_ground_points.las\n"
     ]
    }
   ],
   "source": [
    "cloud_compare_point_cloud: o3d.geometry.PointCloud = Handler.open(\n",
    "    Files.OFF_GROUND_POINTS\n",
    ")"
   ]
  },
  {
   "cell_type": "markdown",
   "metadata": {},
   "source": [
    "## Preprocessing\n",
    "\n",
    "### CFS and SOR\n",
    "\n",
    "The first step in the preprocessing was using the cloth simulation filter (CFS) in Cloud Compare. This is done to separate the ground- and off-ground points. We are only interested in the off-ground points and will from now on only work with these points.\n",
    "After this a statistical outlier removal (SOR) was done to remove the remaining noise.\n"
   ]
  },
  {
   "cell_type": "markdown",
   "metadata": {},
   "source": [
    "### Voxel downsampling\n",
    "\n",
    "The next step was to downsample the point cloud using voxel downsampling. This was done to reduce the number of points in the point cloud and to make the point cloud more uniform. The point cloud is also easier to work with due to the number of points are reduced. If is important to tune the paramaters in such a way that the semantic of the point cloud is maintaned and that there is enough points to be able to extract features from the point cloud.\n"
   ]
  },
  {
   "cell_type": "code",
   "execution_count": 6,
   "metadata": {},
   "outputs": [
    {
     "name": "stdout",
     "output_type": "stream",
     "text": [
      "Original point count: 10434804\n",
      "Downsampled point count: 5632495\n",
      "Point cloud size reduced with 46.02%\n"
     ]
    }
   ],
   "source": [
    "downsampled_point_cloud: o3d.geometry.PointCloud = Reduce.voxel_downsample(\n",
    "    cloud_compare_point_cloud\n",
    ")"
   ]
  },
  {
   "cell_type": "markdown",
   "metadata": {},
   "source": [
    "## Detection\n",
    "\n",
    "### Clustering\n",
    "\n",
    "Using open3d DBSCAN clustering is used to find clusters in the point cloud. Some clusters contain few points and can be concidered noise. Thesee are relabled as noise and will not be considered in the RANSAC plane detection.\n"
   ]
  },
  {
   "cell_type": "code",
   "execution_count": 7,
   "metadata": {},
   "outputs": [
    {
     "name": "stdout",
     "output_type": "stream",
     "text": [
      "Point cloud has 603 clusters\n"
     ]
    }
   ],
   "source": [
    "dbscan: PointCloudDBSCAN = PointCloudDBSCAN(\n",
    "    point_cloud=downsampled_point_cloud\n",
    ")\n",
    "    \n",
    "dbscan.cluster()"
   ]
  },
  {
   "cell_type": "markdown",
   "metadata": {},
   "source": [
    "### RANSAC plane fitting to detect roofs\n"
   ]
  },
  {
   "cell_type": "code",
   "execution_count": 8,
   "metadata": {},
   "outputs": [],
   "source": [
    "%autoreload 2\n",
    "ransac: 'RANSACPlaneFitting' = RANSACPlaneFitting(\n",
    "    point_cloud=downsampled_point_cloud,\n",
    "    dbscan=dbscan\n",
    ")"
   ]
  },
  {
   "cell_type": "code",
   "execution_count": 9,
   "metadata": {},
   "outputs": [
    {
     "name": "stdout",
     "output_type": "stream",
     "text": [
      "Running RANSAC Plane Fitting with the following parameters:\n",
      "            - Plane Fitting Iteration: 1000\n",
      "            - Sample Size: 3\n",
      "            - Distance Threshold: 0.01\n",
      "            - RANSAC Iteration Limit: 75\n",
      "            - Standard Deviation Threshold: 14\n",
      "            - Plane Inlier Ratio Limit: 0.15\n",
      "            \n"
     ]
    },
    {
     "name": "stderr",
     "output_type": "stream",
     "text": [
      "RANSAC Plane Fitting for clusters: 100%|██████████| 603/603 [03:03<00:00,  3.29cluster/s]\n"
     ]
    },
    {
     "name": "stdout",
     "output_type": "stream",
     "text": [
      "Roof point cloud has 148.53280828478321% of the original point cloud\n"
     ]
    }
   ],
   "source": [
    "ransac.run()"
   ]
  },
  {
   "cell_type": "code",
   "execution_count": 10,
   "metadata": {},
   "outputs": [
    {
     "name": "stdout",
     "output_type": "stream",
     "text": [
      "[Open3D WARNING] GLFW Error: WGL: Failed to make context current: Forespurt transformeringsoperasjon er ikke støttet. \n"
     ]
    }
   ],
   "source": [
    "Visualize.display(ransac.roof_point_cloud)"
   ]
  },
  {
   "cell_type": "code",
   "execution_count": 11,
   "metadata": {},
   "outputs": [],
   "source": [
    "Visualize.display(ransac.roof_point_cloud, ransac.non_roof_point_cloud)"
   ]
  }
 ],
 "metadata": {
  "kernelspec": {
   "display_name": "Python 3 (ipykernel)",
   "language": "python",
   "name": "python3"
  },
  "language_info": {
   "codemirror_mode": {
    "name": "ipython",
    "version": 3
   },
   "file_extension": ".py",
   "mimetype": "text/x-python",
   "name": "python",
   "nbconvert_exporter": "python",
   "pygments_lexer": "ipython3",
   "version": "3.9.13"
  }
 },
 "nbformat": 4,
 "nbformat_minor": 4
}
