{
 "cells": [
  {
   "cell_type": "code",
   "execution_count": 1,
   "outputs": [],
   "source": [
    "%load_ext autoreload\n",
    "%autoreload 2"
   ],
   "metadata": {
    "collapsed": false,
    "ExecuteTime": {
     "end_time": "2023-10-22T13:54:15.003520700Z",
     "start_time": "2023-10-22T13:54:14.953151900Z"
    }
   },
   "id": "691da8da5441e30c"
  },
  {
   "cell_type": "code",
   "execution_count": 2,
   "outputs": [
    {
     "name": "stdout",
     "output_type": "stream",
     "text": [
      "Jupyter environment detected. Enabling Open3D WebVisualizer.\n",
      "[Open3D INFO] WebRTC GUI backend enabled.\n",
      "[Open3D INFO] WebRTCWindowSystem: HTTP handshake server disabled.\n"
     ]
    }
   ],
   "source": [
    "# Importing external packages\n",
    "import open3d as o3d"
   ],
   "metadata": {
    "collapsed": false,
    "ExecuteTime": {
     "end_time": "2023-10-22T13:54:16.091235800Z",
     "start_time": "2023-10-22T13:54:15.004678800Z"
    }
   },
   "id": "4b29976fb4705353"
  },
  {
   "cell_type": "code",
   "execution_count": 3,
   "outputs": [],
   "source": [
    "# Importing internal packages\n",
    "from src.features.point_cloud_handler import Handler\n",
    "from src.features.pre_process import Reduce\n",
    "from src.enums import Files\n",
    "from src.features.slice import Slice\n",
    "from src.features.display import Visualize"
   ],
   "metadata": {
    "collapsed": false,
    "ExecuteTime": {
     "end_time": "2023-10-22T13:54:16.794377300Z",
     "start_time": "2023-10-22T13:54:16.093457300Z"
    }
   },
   "id": "4b2b1d9f1e6c3eab"
  },
  {
   "cell_type": "code",
   "execution_count": 4,
   "outputs": [
    {
     "name": "stdout",
     "output_type": "stream",
     "text": [
      "Loaded 17448215 points from tree_point_cloud.las\n"
     ]
    }
   ],
   "source": [
    "raw_point_cloud: o3d.geometry.PointCloud = Handler.open(Files.TREE_POINT_CLOUD)"
   ],
   "metadata": {
    "collapsed": false,
    "ExecuteTime": {
     "end_time": "2023-10-22T13:54:45.913949800Z",
     "start_time": "2023-10-22T13:54:16.796375800Z"
    }
   },
   "id": "75e76d1644aa7330"
  },
  {
   "cell_type": "code",
   "execution_count": 5,
   "outputs": [
    {
     "name": "stdout",
     "output_type": "stream",
     "text": [
      "Original point count: 17448215\n",
      "Downsampled point count: 6183892\n",
      "Point cloud size reduced with 64.56%\n"
     ]
    }
   ],
   "source": [
    "down_sampled_point_cloud: o3d.geometry.PointCloud = Reduce.voxel_downsample(\n",
    "    point_cloud=raw_point_cloud\n",
    ")"
   ],
   "metadata": {
    "collapsed": false,
    "ExecuteTime": {
     "end_time": "2023-10-22T13:54:54.677723Z",
     "start_time": "2023-10-22T13:54:45.916955900Z"
    }
   },
   "id": "a48bb02de6c98f03"
  },
  {
   "cell_type": "markdown",
   "source": [],
   "metadata": {
    "collapsed": false
   },
   "id": "add5ea98d106101d"
  },
  {
   "cell_type": "code",
   "execution_count": 6,
   "outputs": [
    {
     "name": "stdout",
     "output_type": "stream",
     "text": [
      "(4,)\n",
      "(5,)\n",
      "(6,)\n"
     ]
    }
   ],
   "source": [
    "slice: Slice = Slice(point_cloud=down_sampled_point_cloud)"
   ],
   "metadata": {
    "collapsed": false,
    "ExecuteTime": {
     "end_time": "2023-10-22T13:54:54.832366900Z",
     "start_time": "2023-10-22T13:54:54.679728300Z"
    }
   },
   "id": "d400b06fec9ea473"
  },
  {
   "cell_type": "code",
   "execution_count": 7,
   "outputs": [],
   "source": [
    "for s in slice.slices:\n",
    "    point_cloud = o3d.geometry.PointCloud()\n",
    "    point_cloud.points = o3d.utility.Vector3dVector(s)\n",
    "    Visualize.display(point_cloud)\n",
    "    "
   ],
   "metadata": {
    "collapsed": false,
    "ExecuteTime": {
     "end_time": "2023-10-22T13:55:25.012957700Z",
     "start_time": "2023-10-22T13:54:54.833372800Z"
    }
   },
   "id": "ac418778dc3f2dc2"
  },
  {
   "cell_type": "markdown",
   "source": [],
   "metadata": {
    "collapsed": false
   },
   "id": "976c245126f3fa1b"
  }
 ],
 "metadata": {
  "kernelspec": {
   "display_name": "Python 3",
   "language": "python",
   "name": "python3"
  },
  "language_info": {
   "codemirror_mode": {
    "name": "ipython",
    "version": 2
   },
   "file_extension": ".py",
   "mimetype": "text/x-python",
   "name": "python",
   "nbconvert_exporter": "python",
   "pygments_lexer": "ipython2",
   "version": "2.7.6"
  }
 },
 "nbformat": 4,
 "nbformat_minor": 5
}
