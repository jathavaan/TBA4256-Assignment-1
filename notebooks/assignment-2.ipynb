{
 "cells": [
  {
   "cell_type": "code",
   "execution_count": 14,
   "outputs": [
    {
     "name": "stdout",
     "output_type": "stream",
     "text": [
      "The autoreload extension is already loaded. To reload it, use:\n",
      "  %reload_ext autoreload\n"
     ]
    }
   ],
   "source": [
    "%load_ext autoreload\n",
    "%autoreload 2"
   ],
   "metadata": {
    "collapsed": false,
    "ExecuteTime": {
     "end_time": "2023-10-24T18:07:23.023379500Z",
     "start_time": "2023-10-24T18:07:22.924400Z"
    }
   },
   "id": "691da8da5441e30c"
  },
  {
   "cell_type": "code",
   "execution_count": 15,
   "outputs": [],
   "source": [
    "# Importing external packages\n",
    "import open3d as o3d"
   ],
   "metadata": {
    "collapsed": false,
    "ExecuteTime": {
     "end_time": "2023-10-24T18:07:23.124727900Z",
     "start_time": "2023-10-24T18:07:23.018381800Z"
    }
   },
   "id": "4b29976fb4705353"
  },
  {
   "cell_type": "code",
   "execution_count": 16,
   "outputs": [],
   "source": [
    "# Importing internal packages\n",
    "from src.features.point_cloud_handler import Handler\n",
    "from src.features.pre_process import Reduce\n",
    "from src.enums import Files\n",
    "from src.features.cluster import PointCloudDBSCAN\n",
    "from src.features.slicer import Slicer\n",
    "from src.features.ransac import RANSACCylinderFitting\n",
    "from src.features.display import Visualize\n",
    "from src.features.stem_detector import StemDetector"
   ],
   "metadata": {
    "collapsed": false,
    "ExecuteTime": {
     "end_time": "2023-10-24T18:07:23.219477400Z",
     "start_time": "2023-10-24T18:07:23.126703600Z"
    }
   },
   "id": "4b2b1d9f1e6c3eab"
  },
  {
   "cell_type": "code",
   "execution_count": 17,
   "outputs": [
    {
     "name": "stdout",
     "output_type": "stream",
     "text": [
      "Loaded 17452822 points from tree_point_cloud.las\n"
     ]
    }
   ],
   "source": [
    "raw_point_cloud: o3d.geometry.PointCloud = Handler.open(Files.TREE_POINT_CLOUD)"
   ],
   "metadata": {
    "collapsed": false,
    "ExecuteTime": {
     "end_time": "2023-10-24T18:07:54.344610700Z",
     "start_time": "2023-10-24T18:07:23.220476100Z"
    }
   },
   "id": "75e76d1644aa7330"
  },
  {
   "cell_type": "code",
   "execution_count": 18,
   "outputs": [
    {
     "name": "stdout",
     "output_type": "stream",
     "text": [
      "Original point count: 17452822\n",
      "Downsampled point count: 1248345\n",
      "Point cloud size reduced with 92.85%\n"
     ]
    }
   ],
   "source": [
    "down_sampled_point_cloud: o3d.geometry.PointCloud = Reduce.voxel_downsample(\n",
    "    point_cloud=raw_point_cloud\n",
    ")"
   ],
   "metadata": {
    "collapsed": false,
    "ExecuteTime": {
     "end_time": "2023-10-24T18:07:58.645729300Z",
     "start_time": "2023-10-24T18:07:54.347613300Z"
    }
   },
   "id": "a48bb02de6c98f03"
  },
  {
   "cell_type": "code",
   "execution_count": 19,
   "outputs": [],
   "source": [
    "slicer: Slicer = Slicer(point_cloud=down_sampled_point_cloud)"
   ],
   "metadata": {
    "collapsed": false,
    "ExecuteTime": {
     "end_time": "2023-10-24T18:07:58.796138Z",
     "start_time": "2023-10-24T18:07:58.634728100Z"
    }
   },
   "id": "d400b06fec9ea473"
  },
  {
   "cell_type": "code",
   "execution_count": 20,
   "outputs": [
    {
     "name": "stdout",
     "output_type": "stream",
     "text": [
      "Point cloud has 25 clusters\n",
      "Point cloud has 65 clusters\n",
      "Point cloud has 130 clusters\n",
      "Point cloud has 160 clusters\n",
      "Point cloud has 245 clusters\n",
      "Point cloud has 374 clusters\n",
      "Point cloud has 447 clusters\n"
     ]
    }
   ],
   "source": [
    "trees: o3d.geometry.PointCloud = o3d.geometry.PointCloud()\n",
    "\n",
    "for i in range(len(slicer.point_cloud_slices)):\n",
    "    sliced_point_cloud = slicer.point_cloud_slices[i]\n",
    "    dbscan: PointCloudDBSCAN = PointCloudDBSCAN(point_cloud=sliced_point_cloud)\n",
    "    dbscan.cluster()\n",
    "    ransac: RANSACCylinderFitting = RANSACCylinderFitting(\n",
    "        point_cloud=sliced_point_cloud,\n",
    "        dbscan=dbscan\n",
    "    )\n",
    "    \n",
    "    trees += ransac.trees\n",
    "    del dbscan\n",
    "    del ransac"
   ],
   "metadata": {
    "collapsed": false,
    "ExecuteTime": {
     "end_time": "2023-10-24T18:09:31.633007600Z",
     "start_time": "2023-10-24T18:07:58.792022100Z"
    }
   },
   "id": "29d24b6272ca9673"
  },
  {
   "cell_type": "code",
   "execution_count": 21,
   "outputs": [
    {
     "data": {
      "text/plain": "PointCloud with 6573 points."
     },
     "execution_count": 21,
     "metadata": {},
     "output_type": "execute_result"
    }
   ],
   "source": [
    "trees"
   ],
   "metadata": {
    "collapsed": false,
    "ExecuteTime": {
     "end_time": "2023-10-24T18:09:31.745893800Z",
     "start_time": "2023-10-24T18:09:31.635009700Z"
    }
   },
   "id": "863d2ef1c2713144"
  },
  {
   "cell_type": "code",
   "execution_count": 22,
   "outputs": [
    {
     "data": {
      "text/plain": "PointCloud with 4891 points."
     },
     "execution_count": 22,
     "metadata": {},
     "output_type": "execute_result"
    }
   ],
   "source": [
    "Reduce.statistical_outlier_removal(\n",
    "    point_cloud=trees,\n",
    "    nb_neighbors=20,\n",
    "    std_ratio=.1\n",
    ")"
   ],
   "metadata": {
    "collapsed": false,
    "ExecuteTime": {
     "end_time": "2023-10-24T18:09:31.869475300Z",
     "start_time": "2023-10-24T18:09:31.744817100Z"
    }
   },
   "id": "179201c027127c95"
  },
  {
   "cell_type": "code",
   "execution_count": 23,
   "outputs": [
    {
     "name": "stdout",
     "output_type": "stream",
     "text": [
      "Point cloud has 185 clusters\n"
     ]
    }
   ],
   "source": [
    "dbscan: 'PointCloudDBSCAN' = PointCloudDBSCAN(\n",
    "    point_cloud=trees,\n",
    "    eps=1.2,\n",
    "    min_points=10\n",
    ")\n",
    "\n",
    "dbscan.cluster()"
   ],
   "metadata": {
    "collapsed": false,
    "ExecuteTime": {
     "end_time": "2023-10-24T18:09:32.014997900Z",
     "start_time": "2023-10-24T18:09:31.854474200Z"
    }
   },
   "id": "f78b01632c554a75"
  },
  {
   "cell_type": "code",
   "execution_count": 24,
   "outputs": [],
   "source": [
    "stem_detector: 'StemDetector' = StemDetector(\n",
    "    trees=trees,\n",
    "    dbscan=dbscan\n",
    ")\n",
    "\n",
    "Visualize.display_colored_clusters(trees, stem_detector.dbscan.labels)"
   ],
   "metadata": {
    "collapsed": false,
    "ExecuteTime": {
     "end_time": "2023-10-24T18:09:34.051721500Z",
     "start_time": "2023-10-24T18:09:32.012999300Z"
    }
   },
   "id": "ef434ee4fed1b4dc"
  },
  {
   "cell_type": "code",
   "execution_count": 25,
   "outputs": [],
   "source": [
    "stems: list[o3d.geometry.AxisAlignedBoundingBox] = stem_detector.stems\n",
    "trees: list[o3d.geometry.PointCloud] = []\n",
    "for i in range(len(stems)):\n",
    "    if i == 0:\n",
    "        continue\n",
    "        \n",
    "    stem = stems[i]\n",
    "    tree = down_sampled_point_cloud.crop(stem)\n",
    "    trees.append(tree)\n",
    "    "
   ],
   "metadata": {
    "collapsed": false,
    "ExecuteTime": {
     "end_time": "2023-10-24T18:09:35.362574100Z",
     "start_time": "2023-10-24T18:09:34.051721500Z"
    }
   },
   "id": "a0e757d20912740e"
  },
  {
   "cell_type": "code",
   "execution_count": 27,
   "outputs": [
    {
     "name": "stdout",
     "output_type": "stream",
     "text": [
      "[Open3D WARNING] GLFW Error: WGL: Failed to make context current: Ugyldig referanse. \n",
      "[Open3D WARNING] GLFW Error: WGL: Failed to make context current: Forespurt transformeringsoperasjon er ikke støttet. \n"
     ]
    }
   ],
   "source": [
    "Visualize.display(*trees)"
   ],
   "metadata": {
    "collapsed": false,
    "ExecuteTime": {
     "end_time": "2023-10-24T18:11:28.235491600Z",
     "start_time": "2023-10-24T18:10:37.086206400Z"
    }
   },
   "id": "71d10482af637f70"
  },
  {
   "cell_type": "code",
   "execution_count": 26,
   "outputs": [],
   "source": [],
   "metadata": {
    "collapsed": false,
    "ExecuteTime": {
     "end_time": "2023-10-24T18:10:31.646689800Z",
     "start_time": "2023-10-24T18:10:31.633794200Z"
    }
   },
   "id": "5475787c8825654d"
  }
 ],
 "metadata": {
  "kernelspec": {
   "display_name": "Python 3",
   "language": "python",
   "name": "python3"
  },
  "language_info": {
   "codemirror_mode": {
    "name": "ipython",
    "version": 2
   },
   "file_extension": ".py",
   "mimetype": "text/x-python",
   "name": "python",
   "nbconvert_exporter": "python",
   "pygments_lexer": "ipython2",
   "version": "2.7.6"
  }
 },
 "nbformat": 4,
 "nbformat_minor": 5
}
