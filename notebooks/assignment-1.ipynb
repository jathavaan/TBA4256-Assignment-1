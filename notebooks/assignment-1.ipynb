{
 "cells": [
  {
   "cell_type": "markdown",
   "metadata": {},
   "source": [
    "# Roof detection in point clouds using DBSCAN clustering and RANSAC plane fitting\n"
   ]
  },
  {
   "cell_type": "code",
   "execution_count": 27,
   "metadata": {
    "ExecuteTime": {
     "end_time": "2023-10-22T12:39:04.050642500Z",
     "start_time": "2023-10-22T12:39:03.974074300Z"
    }
   },
   "outputs": [
    {
     "name": "stdout",
     "output_type": "stream",
     "text": [
      "The autoreload extension is already loaded. To reload it, use:\n",
      "  %reload_ext autoreload\n"
     ]
    }
   ],
   "source": [
    "%load_ext autoreload\n",
    "%autoreload 2"
   ]
  },
  {
   "cell_type": "code",
   "execution_count": 28,
   "metadata": {
    "ExecuteTime": {
     "end_time": "2023-10-22T12:39:04.127941700Z",
     "start_time": "2023-10-22T12:39:04.051687800Z"
    }
   },
   "outputs": [],
   "source": [
    "# Importing external packages\n",
    "import warnings\n",
    "\n",
    "import open3d as o3d"
   ]
  },
  {
   "cell_type": "code",
   "execution_count": 29,
   "metadata": {
    "ExecuteTime": {
     "end_time": "2023-10-22T12:39:04.209487800Z",
     "start_time": "2023-10-22T12:39:04.128942100Z"
    }
   },
   "outputs": [],
   "source": [
    "# Importing internal packages\n",
    "from src.enums import Files\n",
    "from src.features.point_cloud_handler import Handler\n",
    "from src.features.pre_process import Reduce\n",
    "from src.features.display import Visualize\n",
    "from src.features.cluster import PointCloudDBSCAN\n",
    "from src.features.ransac import RANSACPlaneFitting"
   ]
  },
  {
   "cell_type": "code",
   "execution_count": 30,
   "metadata": {
    "ExecuteTime": {
     "end_time": "2023-10-22T12:39:04.302537300Z",
     "start_time": "2023-10-22T12:39:04.208492600Z"
    }
   },
   "outputs": [],
   "source": [
    "# Package setup\n",
    "warnings.filterwarnings('ignore')"
   ]
  },
  {
   "cell_type": "markdown",
   "metadata": {},
   "source": [
    "## Initialization\n",
    "\n",
    "Creating a point cloud object from a las/laz file.\n"
   ]
  },
  {
   "cell_type": "code",
   "execution_count": 31,
   "metadata": {
    "ExecuteTime": {
     "end_time": "2023-10-22T12:39:21.759464Z",
     "start_time": "2023-10-22T12:39:04.304539100Z"
    }
   },
   "outputs": [
    {
     "name": "stdout",
     "output_type": "stream",
     "text": [
      "Loaded 10434804 points from off_ground_points.las\n"
     ]
    }
   ],
   "source": [
    "cloud_compare_point_cloud: o3d.geometry.PointCloud = Handler.open(\n",
    "    Files.OFF_GROUND_POINTS\n",
    ")"
   ]
  },
  {
   "cell_type": "markdown",
   "metadata": {},
   "source": [
    "## Preprocessing\n",
    "\n",
    "### CFS and SOR\n",
    "\n",
    "The first step in the preprocessing was using the cloth simulation filter (CFS) in Cloud Compare. This is done to separate the ground- and off-ground points. We are only interested in the off-ground points and will from now on only work with these points.\n",
    "After this a statistical outlier removal (SOR) was done to remove the remaining noise.\n"
   ]
  },
  {
   "cell_type": "markdown",
   "metadata": {},
   "source": [
    "### Voxel downsampling\n",
    "\n",
    "The next step was to downsample the point cloud using voxel downsampling. This was done to reduce the number of points in the point cloud and to make the point cloud more uniform. The point cloud is also easier to work with due to the number of points are reduced. If is important to tune the paramaters in such a way that the semantic of the point cloud is maintaned and that there is enough points to be able to extract features from the point cloud.\n"
   ]
  },
  {
   "cell_type": "code",
   "execution_count": 32,
   "metadata": {
    "ExecuteTime": {
     "end_time": "2023-10-22T12:39:24.145455500Z",
     "start_time": "2023-10-22T12:39:21.760458900Z"
    }
   },
   "outputs": [
    {
     "name": "stdout",
     "output_type": "stream",
     "text": [
      "Original point count: 10434804\n",
      "Downsampled point count: 2081090\n",
      "Point cloud size reduced with 80.06%\n"
     ]
    }
   ],
   "source": [
    "downsampled_point_cloud: o3d.geometry.PointCloud = Reduce.voxel_downsample(\n",
    "    cloud_compare_point_cloud\n",
    ")"
   ]
  },
  {
   "cell_type": "markdown",
   "metadata": {},
   "source": [
    "## Detection\n",
    "\n",
    "### Clustering\n",
    "\n",
    "Using open3d DBSCAN clustering is used to find clusters in the point cloud. Some clusters contain few points and can be concidered noise. Thesee are relabled as noise and will not be considered in the RANSAC plane detection.\n"
   ]
  },
  {
   "cell_type": "code",
   "execution_count": 33,
   "metadata": {
    "ExecuteTime": {
     "end_time": "2023-10-22T12:39:37.237432100Z",
     "start_time": "2023-10-22T12:39:24.146966500Z"
    }
   },
   "outputs": [
    {
     "name": "stdout",
     "output_type": "stream",
     "text": [
      "Point cloud has 352 clusters\n"
     ]
    }
   ],
   "source": [
    "dbscan: PointCloudDBSCAN = PointCloudDBSCAN(\n",
    "    point_cloud=downsampled_point_cloud\n",
    ")\n",
    "\n",
    "dbscan.cluster()"
   ]
  },
  {
   "cell_type": "markdown",
   "metadata": {},
   "source": [
    "### RANSAC plane fitting to detect roofs\n"
   ]
  },
  {
   "cell_type": "code",
   "execution_count": 34,
   "metadata": {
    "ExecuteTime": {
     "end_time": "2023-10-22T12:39:37.330159700Z",
     "start_time": "2023-10-22T12:39:37.237937Z"
    }
   },
   "outputs": [],
   "source": [
    "ransac: 'RANSACPlaneFitting' = RANSACPlaneFitting(\n",
    "    point_cloud=downsampled_point_cloud,\n",
    "    dbscan=dbscan\n",
    ")"
   ]
  },
  {
   "cell_type": "code",
   "execution_count": 35,
   "metadata": {
    "ExecuteTime": {
     "end_time": "2023-10-22T12:41:10.779156900Z",
     "start_time": "2023-10-22T12:39:37.331163400Z"
    }
   },
   "outputs": [
    {
     "name": "stdout",
     "output_type": "stream",
     "text": [
      "Running RANSAC Plane Fitting with the following parameters:\n",
      "            - Plane Fitting Iteration: 1000\n",
      "            - Sample Size: 3\n",
      "            - Distance Threshold: 0.5\n",
      "            - RANSAC Iteration Limit: 75\n",
      "            - Standard Deviation Threshold: 14\n",
      "            - Plane Inlier Ratio Limit: 0.07\n",
      "            \n"
     ]
    },
    {
     "name": "stderr",
     "output_type": "stream",
     "text": [
      "RANSAC Plane Fitting for clusters: 100%|██████████| 352/352 [01:32<00:00,  3.79cluster/s]\n"
     ]
    }
   ],
   "source": [
    "ransac.run()"
   ]
  },
  {
   "cell_type": "code",
   "execution_count": 36,
   "metadata": {
    "ExecuteTime": {
     "end_time": "2023-10-22T12:41:20.441458100Z",
     "start_time": "2023-10-22T12:41:10.777144200Z"
    }
   },
   "outputs": [
    {
     "name": "stdout",
     "output_type": "stream",
     "text": [
      "Saved point cloud to C:\\Users\\jatha\\Code\\NTNU\\TBA4256-3D-Digital-Modelling\\TBA4256-Assignment-1\\data\\output\\20231022-144119.ply\n"
     ]
    }
   ],
   "source": [
    "Visualize.display(*ransac.roofs, ransac.point_cloud)\n",
    "Handler.save(*ransac.roofs, ransac.point_cloud)"
   ]
  }
 ],
 "metadata": {
  "kernelspec": {
   "display_name": "Python 3 (ipykernel)",
   "language": "python",
   "name": "python3"
  },
  "language_info": {
   "codemirror_mode": {
    "name": "ipython",
    "version": 3
   },
   "file_extension": ".py",
   "mimetype": "text/x-python",
   "name": "python",
   "nbconvert_exporter": "python",
   "pygments_lexer": "ipython3",
   "version": "3.9.13"
  }
 },
 "nbformat": 4,
 "nbformat_minor": 4
}
